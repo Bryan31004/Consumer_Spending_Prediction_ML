{
 "cells": [
  {
   "cell_type": "code",
   "execution_count": 12,
   "metadata": {},
   "outputs": [],
   "source": [
    "import warnings\n",
    "warnings.filterwarnings(\"ignore\")\n",
    "import pandas as pd\n",
    "pd.set_option('display.max_columns', None)\n",
    "from sklearn.model_selection import train_test_split\n",
    "from sklearn.ensemble import RandomForestClassifier\n",
    "from sklearn.preprocessing import LabelEncoder   "
   ]
  },
  {
   "cell_type": "code",
   "execution_count": 13,
   "metadata": {},
   "outputs": [],
   "source": [
    "#df_traffic = pd.read_csv(\"df_after_feature_engineering.csv\", sep=';')\n",
    "df_traffic = pd.read_csv(\"df_bryan.csv\", sep = ';')"
   ]
  },
  {
   "cell_type": "code",
   "execution_count": 14,
   "metadata": {},
   "outputs": [
    {
     "name": "stdout",
     "output_type": "stream",
     "text": [
      "<class 'pandas.core.frame.DataFrame'>\n",
      "RangeIndex: 12283 entries, 0 to 12282\n",
      "Data columns (total 20 columns):\n",
      " #   Column              Non-Null Count  Dtype  \n",
      "---  ------              --------------  -----  \n",
      " 0   channelGrouping     12283 non-null  object \n",
      " 1   date                12283 non-null  object \n",
      " 2   fullVisitorId       12283 non-null  uint64 \n",
      " 3   visitNumber         12283 non-null  int64  \n",
      " 4   visitStartTime      12283 non-null  object \n",
      " 5   browser             12283 non-null  object \n",
      " 6   operatingSystem     12283 non-null  object \n",
      " 7   isMobile            12283 non-null  bool   \n",
      " 8   city                12283 non-null  object \n",
      " 9   source              12283 non-null  object \n",
      " 10  hits                12283 non-null  int64  \n",
      " 11  pageviews           12283 non-null  int64  \n",
      " 12  newVisits           12283 non-null  bool   \n",
      " 13  transactionRevenue  12283 non-null  float64\n",
      " 14  year                12283 non-null  int64  \n",
      " 15  month               12283 non-null  int64  \n",
      " 16  quarterMonth        12283 non-null  int64  \n",
      " 17  day                 12283 non-null  int64  \n",
      " 18  weekday             12283 non-null  int64  \n",
      " 19  hour                12283 non-null  int64  \n",
      "dtypes: bool(2), float64(1), int64(9), object(7), uint64(1)\n",
      "memory usage: 1.7+ MB\n"
     ]
    }
   ],
   "source": [
    "df_traffic.info()"
   ]
  },
  {
   "cell_type": "code",
   "execution_count": 15,
   "metadata": {},
   "outputs": [],
   "source": [
    "    # Aplicar LabelEncoder\n",
    "    cualitativas = df_traffic.dtypes[df_traffic.dtypes == object].keys()\n",
    "    for columna in cualitativas:\n",
    "        lbl = LabelEncoder()\n",
    "        strings = list(df_traffic[columna].values.astype('str'))\n",
    "        lbl.fit(strings)\n",
    "        df_traffic[columna] = lbl.transform(strings)"
   ]
  },
  {
   "cell_type": "code",
   "execution_count": 16,
   "metadata": {},
   "outputs": [],
   "source": [
    "x = df_traffic.drop('transactionRevenue', axis = 1)\n",
    "y = df_traffic['transactionRevenue'].apply(lambda x : 0 if x == 0 else 1)\n",
    "x_train, x_test, y_train, y_test = train_test_split(x, y, test_size=0.2, random_state=123)\n",
    "rf = RandomForestClassifier(n_estimators=100, random_state=123)\n",
    "rf.fit(x_train, y_train)\n",
    "df_traffic['Classifier'] = rf.predict(x)"
   ]
  },
  {
   "cell_type": "code",
   "execution_count": 17,
   "metadata": {},
   "outputs": [
    {
     "data": {
      "text/plain": [
       "['modelo_clasificacion.joblib']"
      ]
     },
     "execution_count": 17,
     "metadata": {},
     "output_type": "execute_result"
    }
   ],
   "source": [
    "import joblib\n",
    "joblib.dump(rf, 'modelo_clasificacion.joblib')"
   ]
  },
  {
   "cell_type": "code",
   "execution_count": 18,
   "metadata": {},
   "outputs": [
    {
     "data": {
      "text/plain": [
       "Classifier\n",
       "0    12147\n",
       "1      136\n",
       "Name: count, dtype: int64"
      ]
     },
     "execution_count": 18,
     "metadata": {},
     "output_type": "execute_result"
    }
   ],
   "source": [
    "df_traffic.sample(20)\n",
    "df_traffic.value_counts('Classifier')"
   ]
  },
  {
   "cell_type": "code",
   "execution_count": 19,
   "metadata": {},
   "outputs": [],
   "source": [
    "df_traffic.to_csv(\"Classifier.csv\", sep = ';', index =False)"
   ]
  }
 ],
 "metadata": {
  "kernelspec": {
   "display_name": "Python 3",
   "language": "python",
   "name": "python3"
  },
  "language_info": {
   "codemirror_mode": {
    "name": "ipython",
    "version": 3
   },
   "file_extension": ".py",
   "mimetype": "text/x-python",
   "name": "python",
   "nbconvert_exporter": "python",
   "pygments_lexer": "ipython3",
   "version": "3.11.4"
  }
 },
 "nbformat": 4,
 "nbformat_minor": 2
}
