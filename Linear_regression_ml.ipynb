{
 "cells": [
  {
   "cell_type": "markdown",
   "metadata": {},
   "source": [
    "Configuración del ambiente"
   ]
  },
  {
   "cell_type": "code",
   "execution_count": 11,
   "metadata": {},
   "outputs": [],
   "source": [
    "\n",
    "import warnings\n",
    "warnings.filterwarnings(\"ignore\")\n",
    "import pandas as pd\n",
    "import numpy as np\n",
    "pd.set_option('display.max_columns', None)\n",
    "from scipy.stats import randint\n",
    "from sklearn.metrics import r2_score, mean_squared_error\n",
    "from sklearn.model_selection import train_test_split\n",
    "from sklearn.linear_model import LinearRegression\n",
    "from sklearn.ensemble import GradientBoostingRegressor\n",
    "from sklearn.tree import DecisionTreeRegressor\n",
    "from sklearn.ensemble import RandomForestRegressor\n",
    "import lightgbm as lgb\n",
    "from sklearn.model_selection import KFold\n",
    "from sklearn.model_selection import cross_val_score\n",
    "from sklearn.model_selection import RandomizedSearchCV\n",
    "\n",
    "global df_traffic, resultados, modelo, modelo_clasificacion"
   ]
  },
  {
   "cell_type": "code",
   "execution_count": 12,
   "metadata": {},
   "outputs": [],
   "source": [
    "df_traffic = pd.read_csv(\"df_bryan.csv\", sep=';')"
   ]
  },
  {
   "cell_type": "code",
   "execution_count": 15,
   "metadata": {},
   "outputs": [
    {
     "name": "stdout",
     "output_type": "stream",
     "text": [
      "Mean Squared Error: 429.45986403121054\n"
     ]
    }
   ],
   "source": [
    "# Codificar las variables categóricas usando One-Hot Encoding\n",
    "X_encoded = pd.get_dummies(X, drop_first=True)\n",
    "\n",
    "# Dividir los datos en conjunto de entrenamiento y prueba\n",
    "X_train, X_test, y_train, y_test = train_test_split(X_encoded, y, test_size=0.2, random_state=42)\n",
    "\n",
    "# Instanciar y entrenar el modelo de regresión lineal\n",
    "linear_model = LinearRegression()\n",
    "linear_model.fit(X_train, y_train)\n",
    "y_pred = linear_model.predict(X_test)"
   ]
  },
  {
   "cell_type": "code",
   "execution_count": 18,
   "metadata": {},
   "outputs": [
    {
     "name": "stdout",
     "output_type": "stream",
     "text": [
      "Mean Squared Error: 429.45986403121054\n",
      "Root Mean Squared Error: 20.723413426151843\n",
      "R-squared: -0.0001461749928528544\n"
     ]
    }
   ],
   "source": [
    "# Calcular el Error Cuadrático Medio (MSE)\n",
    "mse = mean_squared_error(y_test, y_pred)\n",
    "print(\"Mean Squared Error:\", mse)\n",
    "\n",
    "# Calcular la Raíz del Error Cuadrático Medio (RMSE)\n",
    "rmse = np.sqrt(mse)\n",
    "print(\"Root Mean Squared Error:\", rmse)\n",
    "\n",
    "# Calcular el Coeficiente de Determinación (R^2)\n",
    "r2 = r2_score(y_test, y_pred)\n",
    "print(\"R-squared:\", r2)\n"
   ]
  },
  {
   "cell_type": "code",
   "execution_count": 20,
   "metadata": {},
   "outputs": [],
   "source": [
    "from sklearn.model_selection import GridSearchCV\n",
    "from sklearn.linear_model import LinearRegression\n",
    "\n",
    "def optimize_linear_regression(X_train, y_train):\n",
    "    # Definir los hiperparámetros a ajustar\n",
    "    param_grid = {\n",
    "        'fit_intercept': [True, False],\n",
    "        'positive': [True, False],\n",
    "    }\n",
    "    \n",
    "    # Instanciar el modelo de regresión lineal\n",
    "    linear_model = LinearRegression()\n",
    "    \n",
    "    # Instanciar el GridSearchCV\n",
    "    grid_search = GridSearchCV(estimator=linear_model, param_grid=param_grid, cv=5, scoring='neg_mean_squared_error')\n",
    "    \n",
    "    # Realizar la búsqueda de los mejores hiperparámetros\n",
    "    grid_search.fit(X_train, y_train)\n",
    "    \n",
    "    # Devolver los mejores hiperparámetros encontrados\n",
    "    return grid_search.best_params_\n",
    "\n",
    "# Utilizar la función para optimizar los hiperparámetros\n",
    "best_params = optimize_linear_regression(X_train, y_train)\n",
    "print(\"Mejores hiperparámetros:\", best_params)\n"
   ]
  }
 ],
 "metadata": {
  "kernelspec": {
   "display_name": "Python 3",
   "language": "python",
   "name": "python3"
  },
  "language_info": {
   "codemirror_mode": {
    "name": "ipython",
    "version": 3
   },
   "file_extension": ".py",
   "mimetype": "text/x-python",
   "name": "python",
   "nbconvert_exporter": "python",
   "pygments_lexer": "ipython3",
   "version": "3.11.4"
  }
 },
 "nbformat": 4,
 "nbformat_minor": 2
}
