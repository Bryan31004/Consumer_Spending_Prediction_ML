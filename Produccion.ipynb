{
 "cells": [
  {
   "cell_type": "code",
   "execution_count": 37,
   "metadata": {},
   "outputs": [],
   "source": [
    "import warnings\n",
    "warnings.filterwarnings(\"ignore\")\n",
    "import pandas as pd\n",
    "import numpy as np\n",
    "pd.set_option('display.max_columns', None)\n",
    "from scipy.stats import randint\n",
    "from sklearn.metrics import r2_score, mean_squared_error\n",
    "from sklearn.model_selection import train_test_split\n",
    "from sklearn.ensemble import RandomForestRegressor\n",
    "import joblib"
   ]
  },
  {
   "cell_type": "code",
   "execution_count": 38,
   "metadata": {},
   "outputs": [],
   "source": [
    "best_model = joblib.load('modelo_random_forest.joblib')"
   ]
  },
  {
   "cell_type": "code",
   "execution_count": 39,
   "metadata": {},
   "outputs": [],
   "source": [
    "classifier_model = joblib.load('modelo_clasificacion.joblib')"
   ]
  },
  {
   "cell_type": "code",
   "execution_count": 40,
   "metadata": {},
   "outputs": [],
   "source": [
    "df_traffic = pd.read_csv(\"df_bryan.csv\", sep=\";\")"
   ]
  },
  {
   "cell_type": "code",
   "execution_count": 41,
   "metadata": {},
   "outputs": [],
   "source": [
    "    # Aplicar LabelEncoder\n",
    "    cualitativas = df_traffic.dtypes[df_traffic.dtypes == object].keys()\n",
    "    for columna in cualitativas:\n",
    "        lbl = LabelEncoder()\n",
    "        strings = list(df_traffic[columna].values.astype('str'))\n",
    "        lbl.fit(strings)\n",
    "        df_traffic[columna] = lbl.transform(strings)"
   ]
  },
  {
   "cell_type": "code",
   "execution_count": 42,
   "metadata": {},
   "outputs": [
    {
     "name": "stdout",
     "output_type": "stream",
     "text": [
      "R-cuadrado (R²): 79.76852622862496\n",
      "Error cuadrático medio (MSE): 88.31429567379155\n",
      "Raíz del error cuadrático medio (RMSE): 9.397568604367384\n"
     ]
    }
   ],
   "source": [
    "#Pronosticar con la nueva base\n",
    "X = df_traffic.drop('transactionRevenue',axis=1)\n",
    "X['Classifier'] = classifier_model.predict(X)\n",
    "y = df_traffic.transactionRevenue.copy()\n",
    "predictions = best_model.predict(X)\n",
    "predictions[predictions < 1] = 0\n",
    "\n",
    "\n",
    "#Metricas\n",
    "r2 = r2_score(y, predictions)*100\n",
    "mse = mean_squared_error(y, predictions)\n",
    "rmse = np.sqrt(mse)\n",
    "print(\"R-cuadrado (R²): {}\".format(r2))\n",
    "print(\"Error cuadrático medio (MSE): {}\".format(mse))\n",
    "print(\"Raíz del error cuadrático medio (RMSE): {}\".format(rmse))"
   ]
  },
  {
   "cell_type": "code",
   "execution_count": 43,
   "metadata": {},
   "outputs": [
    {
     "data": {
      "text/html": [
       "<div>\n",
       "<style scoped>\n",
       "    .dataframe tbody tr th:only-of-type {\n",
       "        vertical-align: middle;\n",
       "    }\n",
       "\n",
       "    .dataframe tbody tr th {\n",
       "        vertical-align: top;\n",
       "    }\n",
       "\n",
       "    .dataframe thead th {\n",
       "        text-align: right;\n",
       "    }\n",
       "</style>\n",
       "<table border=\"1\" class=\"dataframe\">\n",
       "  <thead>\n",
       "    <tr style=\"text-align: right;\">\n",
       "      <th></th>\n",
       "      <th>transactionRevenue</th>\n",
       "      <th>predictions</th>\n",
       "    </tr>\n",
       "  </thead>\n",
       "  <tbody>\n",
       "    <tr>\n",
       "      <th>7678</th>\n",
       "      <td>79.19</td>\n",
       "      <td>104.316967</td>\n",
       "    </tr>\n",
       "    <tr>\n",
       "      <th>11156</th>\n",
       "      <td>8.48</td>\n",
       "      <td>21.066963</td>\n",
       "    </tr>\n",
       "    <tr>\n",
       "      <th>5629</th>\n",
       "      <td>32.94</td>\n",
       "      <td>107.381208</td>\n",
       "    </tr>\n",
       "    <tr>\n",
       "      <th>5349</th>\n",
       "      <td>0.09</td>\n",
       "      <td>19.075401</td>\n",
       "    </tr>\n",
       "    <tr>\n",
       "      <th>7502</th>\n",
       "      <td>16.99</td>\n",
       "      <td>19.467521</td>\n",
       "    </tr>\n",
       "    <tr>\n",
       "      <th>11035</th>\n",
       "      <td>53.97</td>\n",
       "      <td>55.693203</td>\n",
       "    </tr>\n",
       "    <tr>\n",
       "      <th>11234</th>\n",
       "      <td>55.99</td>\n",
       "      <td>49.616997</td>\n",
       "    </tr>\n",
       "    <tr>\n",
       "      <th>7474</th>\n",
       "      <td>9.98</td>\n",
       "      <td>0.000000</td>\n",
       "    </tr>\n",
       "    <tr>\n",
       "      <th>4249</th>\n",
       "      <td>101.95</td>\n",
       "      <td>104.122349</td>\n",
       "    </tr>\n",
       "    <tr>\n",
       "      <th>3059</th>\n",
       "      <td>79.16</td>\n",
       "      <td>74.494153</td>\n",
       "    </tr>\n",
       "  </tbody>\n",
       "</table>\n",
       "</div>"
      ],
      "text/plain": [
       "       transactionRevenue  predictions\n",
       "7678                79.19   104.316967\n",
       "11156                8.48    21.066963\n",
       "5629                32.94   107.381208\n",
       "5349                 0.09    19.075401\n",
       "7502                16.99    19.467521\n",
       "11035               53.97    55.693203\n",
       "11234               55.99    49.616997\n",
       "7474                 9.98     0.000000\n",
       "4249               101.95   104.122349\n",
       "3059                79.16    74.494153"
      ]
     },
     "execution_count": 43,
     "metadata": {},
     "output_type": "execute_result"
    }
   ],
   "source": [
    "df_resultados = pd.DataFrame({\n",
    "    'transactionRevenue': y,\n",
    "    'predictions': predictions\n",
    "})\n",
    "df_resultados[df_resultados.transactionRevenue>0].sample(10)"
   ]
  }
 ],
 "metadata": {
  "kernelspec": {
   "display_name": "Python 3",
   "language": "python",
   "name": "python3"
  },
  "language_info": {
   "codemirror_mode": {
    "name": "ipython",
    "version": 3
   },
   "file_extension": ".py",
   "mimetype": "text/x-python",
   "name": "python",
   "nbconvert_exporter": "python",
   "pygments_lexer": "ipython3",
   "version": "3.11.4"
  }
 },
 "nbformat": 4,
 "nbformat_minor": 2
}
