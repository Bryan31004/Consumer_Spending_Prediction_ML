{
 "cells": [
  {
   "cell_type": "code",
   "execution_count": 59,
   "metadata": {},
   "outputs": [],
   "source": [
    "import warnings\n",
    "warnings.filterwarnings(\"ignore\")\n",
    "import pandas as pd\n",
    "import numpy as np\n",
    "pd.set_option('display.max_columns', None)\n",
    "from scipy.stats import randint\n",
    "from sklearn.metrics import r2_score, mean_squared_error\n",
    "from sklearn.model_selection import train_test_split\n",
    "from sklearn.ensemble import RandomForestRegressor\n",
    "import joblib"
   ]
  },
  {
   "cell_type": "code",
   "execution_count": 60,
   "metadata": {},
   "outputs": [],
   "source": [
    "best_model = joblib.load('modelo_random_forest.joblib')"
   ]
  },
  {
   "cell_type": "code",
   "execution_count": 61,
   "metadata": {},
   "outputs": [],
   "source": [
    "classifier_model = joblib.load('modelo_clasificacion.joblib')"
   ]
  },
  {
   "cell_type": "code",
   "execution_count": 62,
   "metadata": {},
   "outputs": [],
   "source": [
    "df_traffic = pd.read_csv(\"df_bryan.csv\", sep=\";\")"
   ]
  },
  {
   "cell_type": "code",
   "execution_count": 63,
   "metadata": {},
   "outputs": [],
   "source": [
    "    # Aplicar LabelEncoder\n",
    "    cualitativas = df_traffic.dtypes[df_traffic.dtypes == object].keys()\n",
    "    for columna in cualitativas:\n",
    "        lbl = LabelEncoder()\n",
    "        strings = list(df_traffic[columna].values.astype('str'))\n",
    "        lbl.fit(strings)\n",
    "        df_traffic[columna] = lbl.transform(strings)"
   ]
  },
  {
   "cell_type": "code",
   "execution_count": 64,
   "metadata": {},
   "outputs": [
    {
     "name": "stdout",
     "output_type": "stream",
     "text": [
      "R-cuadrado (R²): 80.45340444247289\n",
      "Error cuadrático medio (MSE): 85.32466981846306\n",
      "Raíz del error cuadrático medio (RMSE): 9.23713536863367\n"
     ]
    }
   ],
   "source": [
    "#Pronosticar con la nueva base\n",
    "X = df_traffic.drop('transactionRevenue',axis=1)\n",
    "X['Classifier'] = classifier_model.predict(X)\n",
    "y = df_traffic.transactionRevenue.copy()\n",
    "predictions = best_model.predict(X)\n",
    "predictions[predictions < 1] = 0\n",
    "\n",
    "\n",
    "#Metricas\n",
    "r2 = r2_score(y, predictions)*100\n",
    "mse = mean_squared_error(y, predictions)\n",
    "rmse = np.sqrt(mse)\n",
    "print(\"R-cuadrado (R²): {}\".format(r2))\n",
    "print(\"Error cuadrático medio (MSE): {}\".format(mse))\n",
    "print(\"Raíz del error cuadrático medio (RMSE): {}\".format(rmse))"
   ]
  },
  {
   "cell_type": "code",
   "execution_count": 65,
   "metadata": {},
   "outputs": [
    {
     "data": {
      "text/html": [
       "<div>\n",
       "<style scoped>\n",
       "    .dataframe tbody tr th:only-of-type {\n",
       "        vertical-align: middle;\n",
       "    }\n",
       "\n",
       "    .dataframe tbody tr th {\n",
       "        vertical-align: top;\n",
       "    }\n",
       "\n",
       "    .dataframe thead th {\n",
       "        text-align: right;\n",
       "    }\n",
       "</style>\n",
       "<table border=\"1\" class=\"dataframe\">\n",
       "  <thead>\n",
       "    <tr style=\"text-align: right;\">\n",
       "      <th></th>\n",
       "      <th>transactionRevenue</th>\n",
       "      <th>predictions</th>\n",
       "    </tr>\n",
       "  </thead>\n",
       "  <tbody>\n",
       "    <tr>\n",
       "      <th>5687</th>\n",
       "      <td>239.60</td>\n",
       "      <td>149.417445</td>\n",
       "    </tr>\n",
       "    <tr>\n",
       "      <th>2511</th>\n",
       "      <td>53.67</td>\n",
       "      <td>51.307326</td>\n",
       "    </tr>\n",
       "    <tr>\n",
       "      <th>6663</th>\n",
       "      <td>19.95</td>\n",
       "      <td>20.443089</td>\n",
       "    </tr>\n",
       "    <tr>\n",
       "      <th>9025</th>\n",
       "      <td>5.97</td>\n",
       "      <td>19.489989</td>\n",
       "    </tr>\n",
       "    <tr>\n",
       "      <th>4321</th>\n",
       "      <td>95.18</td>\n",
       "      <td>124.902421</td>\n",
       "    </tr>\n",
       "    <tr>\n",
       "      <th>789</th>\n",
       "      <td>114.65</td>\n",
       "      <td>116.123681</td>\n",
       "    </tr>\n",
       "    <tr>\n",
       "      <th>5304</th>\n",
       "      <td>184.05</td>\n",
       "      <td>139.635677</td>\n",
       "    </tr>\n",
       "    <tr>\n",
       "      <th>9218</th>\n",
       "      <td>35.98</td>\n",
       "      <td>43.973562</td>\n",
       "    </tr>\n",
       "    <tr>\n",
       "      <th>3059</th>\n",
       "      <td>79.16</td>\n",
       "      <td>77.893961</td>\n",
       "    </tr>\n",
       "    <tr>\n",
       "      <th>8515</th>\n",
       "      <td>67.12</td>\n",
       "      <td>128.022299</td>\n",
       "    </tr>\n",
       "  </tbody>\n",
       "</table>\n",
       "</div>"
      ],
      "text/plain": [
       "      transactionRevenue  predictions\n",
       "5687              239.60   149.417445\n",
       "2511               53.67    51.307326\n",
       "6663               19.95    20.443089\n",
       "9025                5.97    19.489989\n",
       "4321               95.18   124.902421\n",
       "789               114.65   116.123681\n",
       "5304              184.05   139.635677\n",
       "9218               35.98    43.973562\n",
       "3059               79.16    77.893961\n",
       "8515               67.12   128.022299"
      ]
     },
     "execution_count": 65,
     "metadata": {},
     "output_type": "execute_result"
    }
   ],
   "source": [
    "df_resultados = pd.DataFrame({\n",
    "    'transactionRevenue': y,\n",
    "    'predictions': predictions\n",
    "})\n",
    "df_resultados[df_resultados.transactionRevenue>0].sample(10)"
   ]
  }
 ],
 "metadata": {
  "kernelspec": {
   "display_name": "Python 3",
   "language": "python",
   "name": "python3"
  },
  "language_info": {
   "codemirror_mode": {
    "name": "ipython",
    "version": 3
   },
   "file_extension": ".py",
   "mimetype": "text/x-python",
   "name": "python",
   "nbconvert_exporter": "python",
   "pygments_lexer": "ipython3",
   "version": "3.11.4"
  }
 },
 "nbformat": 4,
 "nbformat_minor": 2
}
